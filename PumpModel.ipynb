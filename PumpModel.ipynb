{
 "cells": [
  {
   "cell_type": "code",
   "execution_count": 1,
   "id": "caed149f",
   "metadata": {},
   "outputs": [
    {
     "name": "stdout",
     "output_type": "stream",
     "text": [
      "<class 'pandas.core.frame.DataFrame'>\n",
      "RangeIndex: 11 entries, 0 to 10\n",
      "Data columns (total 11 columns):\n",
      " #   Column     Non-Null Count  Dtype  \n",
      "---  ------     --------------  -----  \n",
      " 0   mean       11 non-null     float64\n",
      " 1   max        11 non-null     float64\n",
      " 2   kurtosis   11 non-null     float64\n",
      " 3   variance   11 non-null     float64\n",
      " 4   onenorm    11 non-null     float64\n",
      " 5   mean1      11 non-null     float64\n",
      " 6   max1       11 non-null     float64\n",
      " 7   kurtosis1  11 non-null     float64\n",
      " 8   variance1  11 non-null     float64\n",
      " 9   onenorm1   11 non-null     float64\n",
      " 10  status     11 non-null     object \n",
      "dtypes: float64(10), object(1)\n",
      "memory usage: 1.1+ KB\n"
     ]
    }
   ],
   "source": [
    "import pandas as pd\n",
    "\n",
    "from sklearn.model_selection import train_test_split\n",
    "from sklearn.ensemble import RandomForestClassifier \n",
    "from sklearn import metrics\n",
    "\n",
    "dataset_url = \"https://raw.githubusercontent.com/Faizal215/cubas/main/out2.csv\"\n",
    "df = pd.read_csv(dataset_url, dtype = {'status': str})\n",
    "\n",
    "df.info()"
   ]
  },
  {
   "cell_type": "code",
   "execution_count": 2,
   "id": "10bd698d",
   "metadata": {},
   "outputs": [
    {
     "data": {
      "text/html": [
       "<div>\n",
       "<style scoped>\n",
       "    .dataframe tbody tr th:only-of-type {\n",
       "        vertical-align: middle;\n",
       "    }\n",
       "\n",
       "    .dataframe tbody tr th {\n",
       "        vertical-align: top;\n",
       "    }\n",
       "\n",
       "    .dataframe thead th {\n",
       "        text-align: right;\n",
       "    }\n",
       "</style>\n",
       "<table border=\"1\" class=\"dataframe\">\n",
       "  <thead>\n",
       "    <tr style=\"text-align: right;\">\n",
       "      <th></th>\n",
       "      <th>mean</th>\n",
       "      <th>max</th>\n",
       "      <th>kurtosis</th>\n",
       "      <th>variance</th>\n",
       "      <th>onenorm</th>\n",
       "      <th>mean1</th>\n",
       "      <th>max1</th>\n",
       "      <th>kurtosis1</th>\n",
       "      <th>variance1</th>\n",
       "      <th>onenorm1</th>\n",
       "      <th>status</th>\n",
       "    </tr>\n",
       "  </thead>\n",
       "  <tbody>\n",
       "    <tr>\n",
       "      <th>0</th>\n",
       "      <td>-0.000020</td>\n",
       "      <td>6.976752</td>\n",
       "      <td>16.087093</td>\n",
       "      <td>0.111425</td>\n",
       "      <td>1.331746e+06</td>\n",
       "      <td>0.009558</td>\n",
       "      <td>33.622414</td>\n",
       "      <td>14.502220</td>\n",
       "      <td>7.907688</td>\n",
       "      <td>1.331746e+06</td>\n",
       "      <td>h</td>\n",
       "    </tr>\n",
       "    <tr>\n",
       "      <th>1</th>\n",
       "      <td>-0.000019</td>\n",
       "      <td>8.932420</td>\n",
       "      <td>13.212736</td>\n",
       "      <td>0.168242</td>\n",
       "      <td>1.055655e+06</td>\n",
       "      <td>0.002954</td>\n",
       "      <td>31.216814</td>\n",
       "      <td>12.244360</td>\n",
       "      <td>9.195284</td>\n",
       "      <td>1.055655e+06</td>\n",
       "      <td>h</td>\n",
       "    </tr>\n",
       "    <tr>\n",
       "      <th>2</th>\n",
       "      <td>-0.000047</td>\n",
       "      <td>7.912361</td>\n",
       "      <td>20.831987</td>\n",
       "      <td>0.147405</td>\n",
       "      <td>8.091255e+05</td>\n",
       "      <td>-0.005104</td>\n",
       "      <td>31.110516</td>\n",
       "      <td>12.372426</td>\n",
       "      <td>7.772573</td>\n",
       "      <td>8.091255e+05</td>\n",
       "      <td>h</td>\n",
       "    </tr>\n",
       "    <tr>\n",
       "      <th>3</th>\n",
       "      <td>-0.000557</td>\n",
       "      <td>35.947502</td>\n",
       "      <td>121.832101</td>\n",
       "      <td>1.085911</td>\n",
       "      <td>8.734991e+05</td>\n",
       "      <td>-0.002305</td>\n",
       "      <td>43.457676</td>\n",
       "      <td>12.853174</td>\n",
       "      <td>10.110199</td>\n",
       "      <td>8.734991e+05</td>\n",
       "      <td>s</td>\n",
       "    </tr>\n",
       "    <tr>\n",
       "      <th>4</th>\n",
       "      <td>-0.000187</td>\n",
       "      <td>38.968124</td>\n",
       "      <td>258.544464</td>\n",
       "      <td>0.497547</td>\n",
       "      <td>7.341528e+05</td>\n",
       "      <td>0.008319</td>\n",
       "      <td>41.962177</td>\n",
       "      <td>19.590730</td>\n",
       "      <td>8.234116</td>\n",
       "      <td>7.341528e+05</td>\n",
       "      <td>s</td>\n",
       "    </tr>\n",
       "  </tbody>\n",
       "</table>\n",
       "</div>"
      ],
      "text/plain": [
       "       mean        max    kurtosis  variance       onenorm     mean1  \\\n",
       "0 -0.000020   6.976752   16.087093  0.111425  1.331746e+06  0.009558   \n",
       "1 -0.000019   8.932420   13.212736  0.168242  1.055655e+06  0.002954   \n",
       "2 -0.000047   7.912361   20.831987  0.147405  8.091255e+05 -0.005104   \n",
       "3 -0.000557  35.947502  121.832101  1.085911  8.734991e+05 -0.002305   \n",
       "4 -0.000187  38.968124  258.544464  0.497547  7.341528e+05  0.008319   \n",
       "\n",
       "        max1  kurtosis1  variance1      onenorm1 status  \n",
       "0  33.622414  14.502220   7.907688  1.331746e+06      h  \n",
       "1  31.216814  12.244360   9.195284  1.055655e+06      h  \n",
       "2  31.110516  12.372426   7.772573  8.091255e+05      h  \n",
       "3  43.457676  12.853174  10.110199  8.734991e+05      s  \n",
       "4  41.962177  19.590730   8.234116  7.341528e+05      s  "
      ]
     },
     "execution_count": 2,
     "metadata": {},
     "output_type": "execute_result"
    }
   ],
   "source": [
    "df.head(5)"
   ]
  },
  {
   "cell_type": "code",
   "execution_count": 3,
   "id": "85a44b52",
   "metadata": {},
   "outputs": [
    {
     "data": {
      "text/plain": [
       "h    3\n",
       "m    3\n",
       "n    3\n",
       "s    2\n",
       "Name: status, dtype: int64"
      ]
     },
     "execution_count": 3,
     "metadata": {},
     "output_type": "execute_result"
    }
   ],
   "source": [
    "df.status.value_counts()"
   ]
  },
  {
   "cell_type": "code",
   "execution_count": 4,
   "id": "6315fdf6",
   "metadata": {},
   "outputs": [],
   "source": [
    "df['status'] = df['status'].map({'n':3,'m':2,'s':1,'h':0})\n",
    "\n",
    "\n",
    "\n",
    "#print(df.to_string())\n",
    "\n",
    "train, test = train_test_split(df, test_size = 0.2)\n",
    "\n",
    "features = [ 'mean','max', 'kurtosis', 'variance', 'onenorm' ]\n",
    "\n",
    "train_X = train[features]\n",
    "train_y =train.status\n",
    "\n",
    "test_X = test[features]\n",
    "test_y = test.status"
   ]
  },
  {
   "cell_type": "code",
   "execution_count": 5,
   "id": "473a692c",
   "metadata": {},
   "outputs": [
    {
     "data": {
      "text/html": [
       "<div>\n",
       "<style scoped>\n",
       "    .dataframe tbody tr th:only-of-type {\n",
       "        vertical-align: middle;\n",
       "    }\n",
       "\n",
       "    .dataframe tbody tr th {\n",
       "        vertical-align: top;\n",
       "    }\n",
       "\n",
       "    .dataframe thead th {\n",
       "        text-align: right;\n",
       "    }\n",
       "</style>\n",
       "<table border=\"1\" class=\"dataframe\">\n",
       "  <thead>\n",
       "    <tr style=\"text-align: right;\">\n",
       "      <th></th>\n",
       "      <th>mean</th>\n",
       "      <th>max</th>\n",
       "      <th>kurtosis</th>\n",
       "      <th>variance</th>\n",
       "      <th>onenorm</th>\n",
       "      <th>mean1</th>\n",
       "      <th>max1</th>\n",
       "      <th>kurtosis1</th>\n",
       "      <th>variance1</th>\n",
       "      <th>onenorm1</th>\n",
       "      <th>status</th>\n",
       "    </tr>\n",
       "  </thead>\n",
       "  <tbody>\n",
       "    <tr>\n",
       "      <th>0</th>\n",
       "      <td>-0.000020</td>\n",
       "      <td>6.976752</td>\n",
       "      <td>16.087093</td>\n",
       "      <td>0.111425</td>\n",
       "      <td>1.331746e+06</td>\n",
       "      <td>0.009558</td>\n",
       "      <td>33.622414</td>\n",
       "      <td>14.502220</td>\n",
       "      <td>7.907688</td>\n",
       "      <td>1.331746e+06</td>\n",
       "      <td>0</td>\n",
       "    </tr>\n",
       "    <tr>\n",
       "      <th>1</th>\n",
       "      <td>-0.000019</td>\n",
       "      <td>8.932420</td>\n",
       "      <td>13.212736</td>\n",
       "      <td>0.168242</td>\n",
       "      <td>1.055655e+06</td>\n",
       "      <td>0.002954</td>\n",
       "      <td>31.216814</td>\n",
       "      <td>12.244360</td>\n",
       "      <td>9.195284</td>\n",
       "      <td>1.055655e+06</td>\n",
       "      <td>0</td>\n",
       "    </tr>\n",
       "    <tr>\n",
       "      <th>2</th>\n",
       "      <td>-0.000047</td>\n",
       "      <td>7.912361</td>\n",
       "      <td>20.831987</td>\n",
       "      <td>0.147405</td>\n",
       "      <td>8.091255e+05</td>\n",
       "      <td>-0.005104</td>\n",
       "      <td>31.110516</td>\n",
       "      <td>12.372426</td>\n",
       "      <td>7.772573</td>\n",
       "      <td>8.091255e+05</td>\n",
       "      <td>0</td>\n",
       "    </tr>\n",
       "    <tr>\n",
       "      <th>3</th>\n",
       "      <td>-0.000557</td>\n",
       "      <td>35.947502</td>\n",
       "      <td>121.832101</td>\n",
       "      <td>1.085911</td>\n",
       "      <td>8.734991e+05</td>\n",
       "      <td>-0.002305</td>\n",
       "      <td>43.457676</td>\n",
       "      <td>12.853174</td>\n",
       "      <td>10.110199</td>\n",
       "      <td>8.734991e+05</td>\n",
       "      <td>1</td>\n",
       "    </tr>\n",
       "    <tr>\n",
       "      <th>4</th>\n",
       "      <td>-0.000187</td>\n",
       "      <td>38.968124</td>\n",
       "      <td>258.544464</td>\n",
       "      <td>0.497547</td>\n",
       "      <td>7.341528e+05</td>\n",
       "      <td>0.008319</td>\n",
       "      <td>41.962177</td>\n",
       "      <td>19.590730</td>\n",
       "      <td>8.234116</td>\n",
       "      <td>7.341528e+05</td>\n",
       "      <td>1</td>\n",
       "    </tr>\n",
       "  </tbody>\n",
       "</table>\n",
       "</div>"
      ],
      "text/plain": [
       "       mean        max    kurtosis  variance       onenorm     mean1  \\\n",
       "0 -0.000020   6.976752   16.087093  0.111425  1.331746e+06  0.009558   \n",
       "1 -0.000019   8.932420   13.212736  0.168242  1.055655e+06  0.002954   \n",
       "2 -0.000047   7.912361   20.831987  0.147405  8.091255e+05 -0.005104   \n",
       "3 -0.000557  35.947502  121.832101  1.085911  8.734991e+05 -0.002305   \n",
       "4 -0.000187  38.968124  258.544464  0.497547  7.341528e+05  0.008319   \n",
       "\n",
       "        max1  kurtosis1  variance1      onenorm1  status  \n",
       "0  33.622414  14.502220   7.907688  1.331746e+06       0  \n",
       "1  31.216814  12.244360   9.195284  1.055655e+06       0  \n",
       "2  31.110516  12.372426   7.772573  8.091255e+05       0  \n",
       "3  43.457676  12.853174  10.110199  8.734991e+05       1  \n",
       "4  41.962177  19.590730   8.234116  7.341528e+05       1  "
      ]
     },
     "execution_count": 5,
     "metadata": {},
     "output_type": "execute_result"
    }
   ],
   "source": [
    "df.head()"
   ]
  },
  {
   "cell_type": "code",
   "execution_count": 6,
   "id": "e2568c5e",
   "metadata": {},
   "outputs": [
    {
     "data": {
      "text/html": [
       "<style>#sk-container-id-1 {color: black;background-color: white;}#sk-container-id-1 pre{padding: 0;}#sk-container-id-1 div.sk-toggleable {background-color: white;}#sk-container-id-1 label.sk-toggleable__label {cursor: pointer;display: block;width: 100%;margin-bottom: 0;padding: 0.3em;box-sizing: border-box;text-align: center;}#sk-container-id-1 label.sk-toggleable__label-arrow:before {content: \"▸\";float: left;margin-right: 0.25em;color: #696969;}#sk-container-id-1 label.sk-toggleable__label-arrow:hover:before {color: black;}#sk-container-id-1 div.sk-estimator:hover label.sk-toggleable__label-arrow:before {color: black;}#sk-container-id-1 div.sk-toggleable__content {max-height: 0;max-width: 0;overflow: hidden;text-align: left;background-color: #f0f8ff;}#sk-container-id-1 div.sk-toggleable__content pre {margin: 0.2em;color: black;border-radius: 0.25em;background-color: #f0f8ff;}#sk-container-id-1 input.sk-toggleable__control:checked~div.sk-toggleable__content {max-height: 200px;max-width: 100%;overflow: auto;}#sk-container-id-1 input.sk-toggleable__control:checked~label.sk-toggleable__label-arrow:before {content: \"▾\";}#sk-container-id-1 div.sk-estimator input.sk-toggleable__control:checked~label.sk-toggleable__label {background-color: #d4ebff;}#sk-container-id-1 div.sk-label input.sk-toggleable__control:checked~label.sk-toggleable__label {background-color: #d4ebff;}#sk-container-id-1 input.sk-hidden--visually {border: 0;clip: rect(1px 1px 1px 1px);clip: rect(1px, 1px, 1px, 1px);height: 1px;margin: -1px;overflow: hidden;padding: 0;position: absolute;width: 1px;}#sk-container-id-1 div.sk-estimator {font-family: monospace;background-color: #f0f8ff;border: 1px dotted black;border-radius: 0.25em;box-sizing: border-box;margin-bottom: 0.5em;}#sk-container-id-1 div.sk-estimator:hover {background-color: #d4ebff;}#sk-container-id-1 div.sk-parallel-item::after {content: \"\";width: 100%;border-bottom: 1px solid gray;flex-grow: 1;}#sk-container-id-1 div.sk-label:hover label.sk-toggleable__label {background-color: #d4ebff;}#sk-container-id-1 div.sk-serial::before {content: \"\";position: absolute;border-left: 1px solid gray;box-sizing: border-box;top: 0;bottom: 0;left: 50%;z-index: 0;}#sk-container-id-1 div.sk-serial {display: flex;flex-direction: column;align-items: center;background-color: white;padding-right: 0.2em;padding-left: 0.2em;position: relative;}#sk-container-id-1 div.sk-item {position: relative;z-index: 1;}#sk-container-id-1 div.sk-parallel {display: flex;align-items: stretch;justify-content: center;background-color: white;position: relative;}#sk-container-id-1 div.sk-item::before, #sk-container-id-1 div.sk-parallel-item::before {content: \"\";position: absolute;border-left: 1px solid gray;box-sizing: border-box;top: 0;bottom: 0;left: 50%;z-index: -1;}#sk-container-id-1 div.sk-parallel-item {display: flex;flex-direction: column;z-index: 1;position: relative;background-color: white;}#sk-container-id-1 div.sk-parallel-item:first-child::after {align-self: flex-end;width: 50%;}#sk-container-id-1 div.sk-parallel-item:last-child::after {align-self: flex-start;width: 50%;}#sk-container-id-1 div.sk-parallel-item:only-child::after {width: 0;}#sk-container-id-1 div.sk-dashed-wrapped {border: 1px dashed gray;margin: 0 0.4em 0.5em 0.4em;box-sizing: border-box;padding-bottom: 0.4em;background-color: white;}#sk-container-id-1 div.sk-label label {font-family: monospace;font-weight: bold;display: inline-block;line-height: 1.2em;}#sk-container-id-1 div.sk-label-container {text-align: center;}#sk-container-id-1 div.sk-container {/* jupyter's `normalize.less` sets `[hidden] { display: none; }` but bootstrap.min.css set `[hidden] { display: none !important; }` so we also need the `!important` here to be able to override the default hidden behavior on the sphinx rendered scikit-learn.org. See: https://github.com/scikit-learn/scikit-learn/issues/21755 */display: inline-block !important;position: relative;}#sk-container-id-1 div.sk-text-repr-fallback {display: none;}</style><div id=\"sk-container-id-1\" class=\"sk-top-container\"><div class=\"sk-text-repr-fallback\"><pre>RandomForestClassifier(n_estimators=200, n_jobs=-1)</pre><b>In a Jupyter environment, please rerun this cell to show the HTML representation or trust the notebook. <br />On GitHub, the HTML representation is unable to render, please try loading this page with nbviewer.org.</b></div><div class=\"sk-container\" hidden><div class=\"sk-item\"><div class=\"sk-estimator sk-toggleable\"><input class=\"sk-toggleable__control sk-hidden--visually\" id=\"sk-estimator-id-1\" type=\"checkbox\" checked><label for=\"sk-estimator-id-1\" class=\"sk-toggleable__label sk-toggleable__label-arrow\">RandomForestClassifier</label><div class=\"sk-toggleable__content\"><pre>RandomForestClassifier(n_estimators=200, n_jobs=-1)</pre></div></div></div></div></div>"
      ],
      "text/plain": [
       "RandomForestClassifier(n_estimators=200, n_jobs=-1)"
      ]
     },
     "execution_count": 6,
     "metadata": {},
     "output_type": "execute_result"
    }
   ],
   "source": [
    "model = RandomForestClassifier(n_estimators=200, n_jobs=-1)\n",
    "model.fit(train_X,train_y)"
   ]
  },
  {
   "cell_type": "code",
   "execution_count": 7,
   "id": "2f72ec3d",
   "metadata": {},
   "outputs": [
    {
     "name": "stdout",
     "output_type": "stream",
     "text": [
      "[2 0 3]\n"
     ]
    },
    {
     "data": {
      "text/plain": [
       "0.3333333333333333"
      ]
     },
     "execution_count": 7,
     "metadata": {},
     "output_type": "execute_result"
    }
   ],
   "source": [
    "prediction = model.predict(test_X)\n",
    "print(prediction)\n",
    "metrics.accuracy_score(prediction,test_y)"
   ]
  },
  {
   "cell_type": "code",
   "execution_count": 8,
   "id": "1d4208d0",
   "metadata": {},
   "outputs": [
    {
     "data": {
      "text/plain": [
       "Index(['mean', 'max', 'kurtosis', 'variance', 'onenorm'], dtype='object')"
      ]
     },
     "execution_count": 8,
     "metadata": {},
     "output_type": "execute_result"
    }
   ],
   "source": [
    "test_X.columns"
   ]
  },
  {
   "cell_type": "code",
   "execution_count": 9,
   "id": "18e330a6",
   "metadata": {},
   "outputs": [],
   "source": [
    "data = [[-0.000021, 6.976753, 16.087094,0.111426,1.341746e+06]]\n",
    "\n",
    "new_df = pd.DataFrame(data,columns =['mean', 'max', 'kurtosis', 'variance', 'onenorm'])"
   ]
  },
  {
   "cell_type": "code",
   "execution_count": 10,
   "id": "dccf04a2",
   "metadata": {},
   "outputs": [
    {
     "data": {
      "text/html": [
       "<div>\n",
       "<style scoped>\n",
       "    .dataframe tbody tr th:only-of-type {\n",
       "        vertical-align: middle;\n",
       "    }\n",
       "\n",
       "    .dataframe tbody tr th {\n",
       "        vertical-align: top;\n",
       "    }\n",
       "\n",
       "    .dataframe thead th {\n",
       "        text-align: right;\n",
       "    }\n",
       "</style>\n",
       "<table border=\"1\" class=\"dataframe\">\n",
       "  <thead>\n",
       "    <tr style=\"text-align: right;\">\n",
       "      <th></th>\n",
       "      <th>mean</th>\n",
       "      <th>max</th>\n",
       "      <th>kurtosis</th>\n",
       "      <th>variance</th>\n",
       "      <th>onenorm</th>\n",
       "    </tr>\n",
       "  </thead>\n",
       "  <tbody>\n",
       "    <tr>\n",
       "      <th>0</th>\n",
       "      <td>-0.000021</td>\n",
       "      <td>6.976753</td>\n",
       "      <td>16.087094</td>\n",
       "      <td>0.111426</td>\n",
       "      <td>1341746.0</td>\n",
       "    </tr>\n",
       "  </tbody>\n",
       "</table>\n",
       "</div>"
      ],
      "text/plain": [
       "       mean       max   kurtosis  variance    onenorm\n",
       "0 -0.000021  6.976753  16.087094  0.111426  1341746.0"
      ]
     },
     "execution_count": 10,
     "metadata": {},
     "output_type": "execute_result"
    }
   ],
   "source": [
    "new_df"
   ]
  },
  {
   "cell_type": "code",
   "execution_count": 11,
   "id": "5618d2e3",
   "metadata": {},
   "outputs": [],
   "source": [
    "single = model.predict(new_df)"
   ]
  },
  {
   "cell_type": "code",
   "execution_count": 12,
   "id": "3c21f33f",
   "metadata": {},
   "outputs": [
    {
     "name": "stdout",
     "output_type": "stream",
     "text": [
      "[0]\n"
     ]
    }
   ],
   "source": [
    "print(single)"
   ]
  },
  {
   "cell_type": "code",
   "execution_count": 13,
   "id": "3e9fcf1a",
   "metadata": {},
   "outputs": [
    {
     "data": {
      "text/html": [
       "<div>\n",
       "<style scoped>\n",
       "    .dataframe tbody tr th:only-of-type {\n",
       "        vertical-align: middle;\n",
       "    }\n",
       "\n",
       "    .dataframe tbody tr th {\n",
       "        vertical-align: top;\n",
       "    }\n",
       "\n",
       "    .dataframe thead th {\n",
       "        text-align: right;\n",
       "    }\n",
       "</style>\n",
       "<table border=\"1\" class=\"dataframe\">\n",
       "  <thead>\n",
       "    <tr style=\"text-align: right;\">\n",
       "      <th></th>\n",
       "      <th>mean</th>\n",
       "      <th>max</th>\n",
       "      <th>kurtosis</th>\n",
       "      <th>variance</th>\n",
       "      <th>onenorm</th>\n",
       "    </tr>\n",
       "  </thead>\n",
       "  <tbody>\n",
       "    <tr>\n",
       "      <th>7</th>\n",
       "      <td>-0.000031</td>\n",
       "      <td>17.285910</td>\n",
       "      <td>23.876656</td>\n",
       "      <td>0.289634</td>\n",
       "      <td>1159192.618</td>\n",
       "    </tr>\n",
       "    <tr>\n",
       "      <th>10</th>\n",
       "      <td>0.000028</td>\n",
       "      <td>9.170563</td>\n",
       "      <td>7.641464</td>\n",
       "      <td>0.524186</td>\n",
       "      <td>1671090.929</td>\n",
       "    </tr>\n",
       "    <tr>\n",
       "      <th>4</th>\n",
       "      <td>-0.000187</td>\n",
       "      <td>38.968124</td>\n",
       "      <td>258.544464</td>\n",
       "      <td>0.497547</td>\n",
       "      <td>734152.768</td>\n",
       "    </tr>\n",
       "  </tbody>\n",
       "</table>\n",
       "</div>"
      ],
      "text/plain": [
       "        mean        max    kurtosis  variance      onenorm\n",
       "7  -0.000031  17.285910   23.876656  0.289634  1159192.618\n",
       "10  0.000028   9.170563    7.641464  0.524186  1671090.929\n",
       "4  -0.000187  38.968124  258.544464  0.497547   734152.768"
      ]
     },
     "execution_count": 13,
     "metadata": {},
     "output_type": "execute_result"
    }
   ],
   "source": [
    "test_X.head(5)"
   ]
  },
  {
   "cell_type": "code",
   "execution_count": 14,
   "id": "578d4e94",
   "metadata": {},
   "outputs": [
    {
     "data": {
      "text/plain": [
       "7     2\n",
       "10    3\n",
       "4     1\n",
       "Name: status, dtype: int64"
      ]
     },
     "execution_count": 14,
     "metadata": {},
     "output_type": "execute_result"
    }
   ],
   "source": [
    "test_y.head(5)"
   ]
  },
  {
   "cell_type": "code",
   "execution_count": null,
   "id": "31cd7363",
   "metadata": {},
   "outputs": [],
   "source": []
  },
  {
   "cell_type": "code",
   "execution_count": null,
   "id": "a4d20a39",
   "metadata": {},
   "outputs": [],
   "source": []
  },
  {
   "cell_type": "markdown",
   "id": "f45fccfe",
   "metadata": {},
   "source": [
    "# Pickling model"
   ]
  },
  {
   "cell_type": "code",
   "execution_count": 15,
   "id": "6cfba2dd",
   "metadata": {},
   "outputs": [],
   "source": [
    "import pickle"
   ]
  },
  {
   "cell_type": "code",
   "execution_count": 16,
   "id": "26db59ea",
   "metadata": {},
   "outputs": [],
   "source": [
    "fname = 'PumpModel.pkl'\n",
    "pickle.dump(model, open(fname, 'wb'))"
   ]
  },
  {
   "cell_type": "code",
   "execution_count": 17,
   "id": "0b0f9ad9",
   "metadata": {},
   "outputs": [],
   "source": [
    "load_model = pickle.load(open(fname,\"rb\"))"
   ]
  },
  {
   "cell_type": "code",
   "execution_count": 18,
   "id": "63a316ad",
   "metadata": {},
   "outputs": [],
   "source": [
    "r=load_model.score(test_X, test_y)"
   ]
  },
  {
   "cell_type": "code",
   "execution_count": 19,
   "id": "4d27fb9a",
   "metadata": {},
   "outputs": [
    {
     "data": {
      "text/plain": [
       "0.3333333333333333"
      ]
     },
     "execution_count": 19,
     "metadata": {},
     "output_type": "execute_result"
    }
   ],
   "source": [
    "r"
   ]
  }
 ],
 "metadata": {
  "kernelspec": {
   "display_name": "Python 3 (ipykernel)",
   "language": "python",
   "name": "python3"
  },
  "language_info": {
   "codemirror_mode": {
    "name": "ipython",
    "version": 3
   },
   "file_extension": ".py",
   "mimetype": "text/x-python",
   "name": "python",
   "nbconvert_exporter": "python",
   "pygments_lexer": "ipython3",
   "version": "3.9.13"
  }
 },
 "nbformat": 4,
 "nbformat_minor": 5
}
